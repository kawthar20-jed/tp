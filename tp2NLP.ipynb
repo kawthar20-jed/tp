{
  "nbformat": 4,
  "nbformat_minor": 0,
  "metadata": {
    "colab": {
      "provenance": []
    },
    "kernelspec": {
      "name": "python3",
      "display_name": "Python 3"
    },
    "language_info": {
      "name": "python"
    }
  },
  "cells": [
    {
      "cell_type": "code",
      "source": [
        "from gensim.models import Word2Vec\n",
        "from gensim.models import KeyedVectors"
      ],
      "metadata": {
        "id": "5EgLUyesrTAz"
      },
      "execution_count": 3,
      "outputs": []
    },
    {
      "cell_type": "code",
      "source": [
        "text = \"\"\"\n",
        "Morocco and Marrakech: A Tapestry of Tradition and Modernity Morocco, located at the crossroads of Europe and Africa, is a country drenched in history, mystery, and cultural richness. A testament to the ancient civilizations that once flourished here, this North African kingdom boasts a unique blend of Arab, Berber, and European influences. At the heart of Morocco's rich tapestry lies Marrakech, one of its four imperial cities and a vibrant epicenter of tradition and modernity. Geographical Significance Morocco is bordered by the Atlantic Ocean to the west, the Mediterranean Sea to the north, Algeria to the east and southeast, and the vast Sahara desert to the south. Its strategic location has historically made it a sought-after territory and a melting pot of cultures, religions, and trade routes. Marrakech: The Red City Marrakech, often referred to as \"The Red City\" due to its distinctive red-hued buildings, stands against the backdrop of the snow-capped Atlas Mountains. Established in the 11th century, it has remained a crucial political, economic, and cultural center of Morocco. Journey through the Medina Marrakech's old town, the Medina, is a UNESCO World Heritage site and a labyrinthine maze of narrow alleys, bustling souks, and historical landmarks. The Djemaa el-Fna Square lies at the heart of the Medina and comes alive every evening with storytellers, musicians, snake charmers, and food stalls offering tantalizing Moroccan delicacies. Palaces and Gardens The city is also home to grand palaces like the Bahia Palace, showcasing intricate Islamic architecture, and the Saadian Tombs, remnants of the Saadian dynasty. The Majorelle Garden, restored by the fashion designer Yves Saint Laurent, is a tranquil oasis of cacti, palm trees, and cobalt blue accents. Modern Marrakech While tradition and history permeate Marrakech, the city is not averse to the modern world. Gueliz, the new town, is brimming with contemporary art galleries, stylish cafes, and chic boutiques, offering a stark contrast to the ancient Medina. Moroccan Cuisine No journey through Morocco and Marrakech would be complete without indulging in the local cuisine. Tagines, couscous, and pastilla are just a few of the many dishes that combine a plethora of flavors and spices like saffron, cumin, and mint. Paired with Moroccan mint tea, the culinary experience is truly unparalleled. In Conclusion Morocco, with Marrakech at its heart, offers travelers an unparalleled journey through time. The convergence of history, culture, architecture, and gastronomy makes it an enthralling destination for those seeking both adventure and reflection. As the Moroccan proverb goes, \"He who does not travel does not know the value of men.\" In the case of Morocco and Marrakech, it's not just the value of men, but also the value of time, tradition, and tales that have spanned centuries.\n",
        "\"\"\""
      ],
      "metadata": {
        "id": "YQW44ThVtel0"
      },
      "execution_count": 4,
      "outputs": []
    },
    {
      "cell_type": "code",
      "source": [
        "words = [sentence.split() for sentence in text.split(\".\")]"
      ],
      "metadata": {
        "id": "k6IhetWwtncs"
      },
      "execution_count": 7,
      "outputs": []
    },
    {
      "cell_type": "code",
      "source": [
        "model = Word2Vec(words, vector_size=100, window=5, min_count=1, sg=1)"
      ],
      "metadata": {
        "id": "AYR52NgiuODB"
      },
      "execution_count": 8,
      "outputs": []
    },
    {
      "cell_type": "code",
      "source": [
        "word_to_extract = \"Morocco\"\n",
        "if word_to_extract in model.wv:\n",
        "    vector = model.wv[word_to_extract]\n",
        "    print(f\"Représentation vectorielle de '{word_to_extract}': {vector}\")\n",
        "else:\n",
        "    print(f\"Le mot '{word_to_extract}' n'est pas présent dans le modèle.\")"
      ],
      "metadata": {
        "colab": {
          "base_uri": "https://localhost:8080/"
        },
        "id": "3VBkXrBYuSS7",
        "outputId": "7a65f602-3a82-4e85-eb8c-91e3c1eda523"
      },
      "execution_count": 18,
      "outputs": [
        {
          "output_type": "stream",
          "name": "stdout",
          "text": [
            "Représentation vectorielle de 'Morocco': [ 0.00712114 -0.00346971 -0.00055943  0.00143051  0.00034381 -0.00012314\n",
            "  0.00698791  0.00182314 -0.00451148 -0.00218667  0.00555314  0.0001127\n",
            " -0.00161152  0.00957032 -0.00496816 -0.00127687  0.009075    0.00562753\n",
            "  0.00071704 -0.01055502  0.00074756 -0.0016281   0.01062379  0.00073545\n",
            "  0.00147324  0.00304525 -0.00196014 -0.00559823 -0.00112242 -0.00189192\n",
            "  0.00743151  0.00889121  0.00039276  0.00236445 -0.00705615  0.00279946\n",
            " -0.00677759 -0.00962642 -0.00661163 -0.01058024  0.00735513 -0.00682702\n",
            "  0.00737929 -0.00701459  0.0042362   0.01004472 -0.00784455 -0.01036633\n",
            " -0.00381688 -0.0022591   0.00101957 -0.00914549 -0.00819662  0.00231017\n",
            " -0.00909299 -0.00859521 -0.00216146 -0.00848421 -0.0082539  -0.00806041\n",
            " -0.00035751 -0.00410165  0.00707552  0.0004945  -0.00480648  0.00656739\n",
            " -0.00493426 -0.0036615  -0.00844383 -0.00272841 -0.00327457  0.00677016\n",
            " -0.00204493  0.00514601  0.00811917 -0.00689398  0.00462228  0.00600997\n",
            " -0.00379823  0.00732702  0.00561807 -0.00564573 -0.00780352  0.00313299\n",
            " -0.00254118 -0.00640115  0.00977169 -0.00435374 -0.00574746 -0.00088119\n",
            " -0.00143363  0.00162494 -0.00348939 -0.00067449  0.00085319  0.00189383\n",
            "  0.00922487 -0.00622335 -0.00147815  0.00501195]\n"
          ]
        }
      ]
    },
    {
      "cell_type": "code",
      "source": [],
      "metadata": {
        "id": "PpHAY5Q5zyCI"
      },
      "execution_count": null,
      "outputs": []
    },
    {
      "cell_type": "code",
      "source": [
        "word_to_extract = \"Tradition\"\n",
        "if word_to_extract in model.wv:\n",
        "    vector = model.wv[word_to_extract]\n",
        "    print(f\"Représentation vectorielle de '{word_to_extract}': {vector}\")\n",
        "else:\n",
        "    print(f\"Le mot '{word_to_extract}' n'est pas présent dans le modèle.\")"
      ],
      "metadata": {
        "colab": {
          "base_uri": "https://localhost:8080/"
        },
        "outputId": "c7f16ccc-709b-43db-949d-35d3464d352b",
        "id": "cLdqVt0jzzn1"
      },
      "execution_count": 20,
      "outputs": [
        {
          "output_type": "stream",
          "name": "stdout",
          "text": [
            "Représentation vectorielle de 'Tradition': [-7.5000734e-03 -5.6627188e-03  3.2107753e-03  4.6436354e-03\n",
            " -8.3035519e-03  7.9145813e-03  9.4296960e-03 -2.8247535e-03\n",
            " -7.6795756e-03 -9.5203081e-03 -3.7448655e-03  8.2809422e-03\n",
            " -7.8018415e-03  1.3436185e-03 -2.7558662e-04 -5.4134163e-03\n",
            " -8.7096682e-03 -9.6337823e-03 -7.7936701e-03 -3.6739951e-03\n",
            "  7.9806587e-03  1.5656976e-03 -1.8840923e-03  9.4713272e-05\n",
            "  2.8163150e-03 -3.5481772e-03 -9.1373920e-03  2.0260029e-03\n",
            "  3.5156512e-03  5.4846504e-03  5.2249865e-03 -1.8279265e-03\n",
            " -2.8430405e-03  4.3660663e-03 -4.0909857e-03  9.2590768e-03\n",
            "  5.9148865e-03 -8.4604658e-03 -4.5029679e-03 -6.4245034e-03\n",
            " -8.7199674e-04  2.3461806e-03  6.0346788e-03  4.5702197e-03\n",
            "  9.8796608e-04  7.7344831e-03 -3.4200626e-03 -3.8538757e-03\n",
            "  2.3870458e-04  6.4551388e-03  7.6893824e-03  9.6165603e-03\n",
            "  9.0045920e-03 -7.3212311e-03  2.0209148e-03  8.9288857e-03\n",
            " -7.7284463e-03  7.5494996e-03 -9.8403916e-03 -3.8396423e-03\n",
            " -8.1284298e-03  2.4995250e-03  5.6800172e-03  1.9186959e-03\n",
            " -3.8180144e-03 -7.4221650e-03 -1.4210807e-03 -2.1379553e-03\n",
            "  3.5058626e-03 -2.4482452e-03 -9.3126446e-03  5.6083812e-03\n",
            " -3.4052650e-03  9.3718935e-03 -8.0423634e-03 -8.6765764e-03\n",
            " -6.4501660e-03  6.4945607e-03  2.2164236e-03  2.2597606e-03\n",
            "  1.6724062e-03  4.9607884e-03  5.9924703e-03  4.4720592e-03\n",
            "  3.4506993e-05  5.4166075e-03  5.7203667e-03  5.1378161e-03\n",
            "  1.0115945e-03 -2.1368389e-03 -7.8498889e-03  8.8695865e-03\n",
            "  2.4341188e-04 -4.5277602e-03  8.5019507e-03  7.2789066e-03\n",
            " -4.9285279e-03  2.0676814e-03 -8.1532728e-03 -8.7865824e-03]\n"
          ]
        }
      ]
    },
    {
      "cell_type": "code",
      "source": [
        "word1 = \"Morocco\"\n",
        "word2 = \"Marrakech\"\n",
        "if word1 in model.wv and word2 in model.wv:\n",
        "    similarity = model.wv.similarity(word1, word2)\n",
        "    print(f\"Similarité entre '{word1}' et '{word2}': {similarity}\")\n",
        "else:\n",
        "    print(\"l'un des mots n'est pas présent dans le modèle.\")"
      ],
      "metadata": {
        "colab": {
          "base_uri": "https://localhost:8080/"
        },
        "id": "OX-roa5WuaId",
        "outputId": "5e34e8a0-8772-47cc-e875-eb8f53aedaea"
      },
      "execution_count": 10,
      "outputs": [
        {
          "output_type": "stream",
          "name": "stdout",
          "text": [
            "Similarité entre 'Morocco' et 'Marrakech': -0.06761404871940613\n"
          ]
        }
      ]
    },
    {
      "cell_type": "code",
      "source": [
        "word1 = \"Medina\"\n",
        "word2 = \"Marrakech\"\n",
        "if word1 in model.wv and word2 in model.wv:\n",
        "    similarity = model.wv.similarity(word1, word2)\n",
        "    print(f\"Similarité entre '{word1}' et '{word2}': {similarity}\")\n",
        "else:\n",
        "    print(\" l'un des mots n'est pas présent dans le modèle.\")"
      ],
      "metadata": {
        "colab": {
          "base_uri": "https://localhost:8080/"
        },
        "id": "ISvad2Ccz9ud",
        "outputId": "4bcb0108-d75b-41ad-f69b-cb2828183d85"
      },
      "execution_count": 24,
      "outputs": [
        {
          "output_type": "stream",
          "name": "stdout",
          "text": [
            "Similarité entre 'Medina' et 'Marrakech': 0.02227761596441269\n"
          ]
        }
      ]
    },
    {
      "cell_type": "code",
      "source": [
        "# 3. Extraire les mots contextuels (les plus similaires) pour un mot central donné\n",
        "central_word = \"Morocco\"\n",
        "if central_word in model.wv:\n",
        "    similar_words = model.wv.most_similar(central_word)\n",
        "    print(f\"Mots contextuels pour '{central_word}': {similar_words}\")\n",
        "else:\n",
        "    print(f\"Le mot '{central_word}' n'est pas présent dans le modèle.\")\n"
      ],
      "metadata": {
        "colab": {
          "base_uri": "https://localhost:8080/"
        },
        "id": "5geOHRysusW5",
        "outputId": "6dcc43b4-56b1-441d-bac9-392d29b4dfcb"
      },
      "execution_count": 11,
      "outputs": [
        {
          "output_type": "stream",
          "name": "stdout",
          "text": [
            "Mots contextuels pour 'Morocco': [('has', 0.3980790078639984), ('by', 0.3185306489467621), ('reflection', 0.3111017942428589), ('labyrinthine', 0.2931385040283203), ('time,', 0.2795955538749695), ('Gardens', 0.2518494427204132), ('case', 0.24783341586589813), ('Established', 0.2405216246843338), ('tranquil', 0.23526448011398315), ('of', 0.23375540971755981)]\n"
          ]
        }
      ]
    }
  ]
}